{
 "cells": [
  {
   "cell_type": "code",
   "execution_count": null,
   "metadata": {},
   "outputs": [],
   "source": [
    "import os\n",
    "from typing import Any, Callable, Dict, List, Optional, Tuple\n",
    "\n",
    "import requests\n",
    "from dotenv import load_dotenv\n",
    "from notion_client import Client\n",
    "from block_formatter import NotionAPI, BlockFormatter\n",
    "\n",
    "load_dotenv()\n",
    "\n",
    "NOTION_TOKEN = os.getenv(\"NOTION_TOKEN\")\n",
    "PAGE_ID = \"144bb2c6d1338068befdfb9e08242891\"\n",
    "\n",
    "\n",
    "def main():\n",
    "    print(\"Starting to fetch Notion data...\")\n",
    "\n",
    "    notion_api = NotionAPI(NOTION_TOKEN, PAGE_ID)\n",
    "    page_content = notion_api.read_blocks(PAGE_ID)\n",
    "    print(f\"Retrieved {len(page_content)} blocks from Notion page\")\n",
    "\n",
    "    # Filter blocks that have rich_text\n",
    "    blocks_with_rich_text = [block for block in page_content if block.get(block[\"type\"]).get(\"rich_text\")]\n",
    "    print(f\"Found {len(blocks_with_rich_text)} blocks with rich_text\")\n",
    "\n",
    "    # Convert and update each block with rich_text\n",
    "    for block in blocks_with_rich_text:\n",
    "        converted_block = BlockFormatter.convert_latex_block(block)\n",
    "        rich_text = converted_block[block[\"type\"]][\"rich_text\"]\n",
    "        print(rich_text)\n",
    "        # Use the notion_api instance to call update_block_rich_text\n",
    "        response = notion_api.update_block_rich_text(block, rich_text)\n",
    "        print(f\"Updated block {block['id']}\")\n",
    "\n",
    "\n",
    "if __name__ == \"__main__\":\n",
    "    main()"
   ]
  }
 ],
 "metadata": {
  "kernelspec": {
   "display_name": "base",
   "language": "python",
   "name": "python3"
  },
  "language_info": {
   "name": "python",
   "version": "3.12.2"
  }
 },
 "nbformat": 4,
 "nbformat_minor": 2
}
