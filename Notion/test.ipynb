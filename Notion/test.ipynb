{
 "cells": [
  {
   "cell_type": "code",
   "execution_count": 2,
   "metadata": {},
   "outputs": [
    {
     "name": "stdout",
     "output_type": "stream",
     "text": [
      "content='fake response' additional_kwargs={} response_metadata={} id='run-6a1ecb7a-8853-4f3b-8a3d-7e41608c6083-0'\n"
     ]
    }
   ],
   "source": [
    "from langchain_core.language_models.fake_chat_models import FakeChatModel\n",
    "\n",
    "model = FakeChatModel()\n",
    "\n",
    "print(model.invoke(\"Hello, world!\"))"
   ]
  },
  {
   "cell_type": "code",
   "execution_count": 8,
   "metadata": {},
   "outputs": [
    {
     "name": "stdout",
     "output_type": "stream",
     "text": [
      "A function f(x) is convex if, for any two points x_1 and x_2 in its domain and any \\lambda such that 0 \\leq \\lambda \\leq 1, the following holds:f(\\lambda x_1 + (1 - \\lambda)x_2) \\leq \\lambda f(x_1) + (1 - \\lambda)f(x_2)\n",
      "This implies that the line segment between any two points on the graph of the function lies above the graph.\n",
      "A set C is convex if, for any two points x_1, x_2 \\in C, the line segment connecting them is entirely contained within C. Mathematically, for any \\lambda such that 0 \\leq \\lambda \\leq 1, the point \\lambda x_1 + (1 - \\lambda)x_2 is also in C.\n",
      "Here, f(x) is a convex function, and C is a convex set defined by linear equality and inequality constraints.\n",
      "For simple convex problems, analytical solutions may be possible using calculus, such as setting the gradient to zero to find critical points.\n",
      "A first-order iterative optimization algorithm for finding the minimum of a convex function. It uses the gradient of the function to take steps proportional to the negative of the gradient at the current point.\n",
      "A second-order method that uses both the gradient and the Hessian matrix to find the optimal solution. It converges faster than gradient descent for well-behaved convex functions.\n",
      "These are more advanced methods used for large-scale convex optimization problems. They work from the interior of the feasible region and move towards the boundary.\n",
      "Convex problems often have a dual problem associated with them, and solving the dual can provide insights or even solutions to the primal problem.\n",
      "Various software packages and libraries, such as CVXOPT, MOSEK, and others, can solve convex optimization problems efficiently.\n",
      "Given a densely sampled video frames, LongVU first utilizes sDINOv2 prior to remove redundant frames, and fuse the remaining frame features from both SigLIP and DINOv2. Then we selectively reduce visual tokens via cross-modal query. Finally, it conducts spatial token compression based on temporal dependencies to further meet the limited context length of LLMs.\n",
      "\n",
      "A function f(x) is convex if, for any two points x_1 and x_2 in its domain and any \\lambda such that 0 \\leq \\lambda \\leq 1, the following holds:f(\\lambda x_1 + (1 - \\lambda)x_2) \\leq \\lambda f(x_1) + (1 - \\lambda)f(x_2)\n",
      "This implies that the line segment between any two points on the graph of the function lies above the graph.\n",
      "A set C is convex if, for any two points x_1, x_2 \\in C, the line segment connecting them is entirely contained within C. Mathematically, for any \\lambda such that 0 \\leq \\lambda \\leq 1, the point \\lambda x_1 + (1 - \\lambda)x_2 is also in C.\n",
      "Here, f(x) is a convex function, and C is a convex set defined by linear equality and inequality constraints.\n",
      "For simple convex problems, analytical solutions may be possible using calculus, such as setting the gradient to zero to find critical points.\n",
      "A first-order iterative optimization algorithm for finding the minimum of a convex function. It uses the gradient of the function to take steps proportional to the negative of the gradient at the current point.\n",
      "A second-order method that uses both the gradient and the Hessian matrix to find the optimal solution. It converges faster than gradient descent for well-behaved convex functions.\n",
      "These are more advanced methods used for large-scale convex optimization problems. They work from the interior of the feasible region and move towards the boundary.\n",
      "Convex problems often have a dual problem associated with them, and solving the dual can provide insights or even solutions to the primal problem.\n",
      "Various software packages and libraries, such as CVXOPT, MOSEK, and others, can solve convex optimization problems efficiently.\n",
      "Given a densely sampled video frames, LongVU first utilizes sDINOv2 prior to remove redundant frames, and fuse the remaining frame features from both SigLIP and DINOv2. Then we selectively reduce visual tokens via cross-modal query. Finally, it conducts spatial token compression based on temporal dependencies to further meet the limited context length of LLMs.\n"
     ]
    }
   ],
   "source": [
    "from utils import is_rich_text_block\n",
    "\n",
    "\n",
    "def read_blocks_str(blocks):\n",
    "    # Extract text content from blocks\n",
    "    content_list = []\n",
    "    # blocks = self.read_blocks()\n",
    "\n",
    "    for block in blocks:\n",
    "        block_type = block[\"type\"]\n",
    "        if is_rich_text_block(block_type):\n",
    "            content = \"\"\n",
    "            for rich_text in block[block_type][\"rich_text\"]:\n",
    "                rich_text_type = rich_text[\"type\"]\n",
    "                if rich_text_type == \"text\":\n",
    "                    content += rich_text[\"text\"][\"content\"]\n",
    "                elif rich_text_type == \"equation\":\n",
    "                    content += rich_text[\"equation\"][\"expression\"]\n",
    "            content_list.append(content)\n",
    "\n",
    "    return \"\\n\".join(content_list)\n",
    "\n",
    "\n",
    "print(read_blocks_str(blocks))"
   ]
  }
 ],
 "metadata": {
  "kernelspec": {
   "display_name": "base",
   "language": "python",
   "name": "python3"
  },
  "language_info": {
   "codemirror_mode": {
    "name": "ipython",
    "version": 3
   },
   "file_extension": ".py",
   "mimetype": "text/x-python",
   "name": "python",
   "nbconvert_exporter": "python",
   "pygments_lexer": "ipython3",
   "version": "3.12.2"
  }
 },
 "nbformat": 4,
 "nbformat_minor": 2
}
