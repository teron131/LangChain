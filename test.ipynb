{
 "cells": [
  {
   "cell_type": "code",
   "execution_count": 1,
   "metadata": {},
   "outputs": [
    {
     "name": "stdout",
     "output_type": "stream",
     "text": [
      "Response: Your name is Andy. How can I assist you today?\n",
      "Callback: Tokens Used: 85\n",
      "\tPrompt Tokens: 73\n",
      "\tCompletion Tokens: 12\n",
      "Successful Requests: 1\n",
      "Total Cost (USD): $0.0005449999999999999\n"
     ]
    }
   ],
   "source": [
    "from chain import *\n",
    "\n",
    "# Test case to process history\n",
    "history = [{\"role\": \"user\", \"content\": \"Hello, my name is Andy.\"}, {\"role\": \"assistant\", \"content\": \"Hello Andy! It's nice to meet you. How can I assist you today?\"}, {\"role\": \"user\", \"content\": \"What's my name?\"}]\n",
    "\n",
    "response, callback = get_answer(input=\"What's my name?\", history=history, system_prompt=\"You are a helpful assistant. Always refer to the user by their name if you know it.\", model_choice=\"OpenAI\")\n",
    "\n",
    "print(\"Response:\", response)\n",
    "print(\"Callback:\", callback)"
   ]
  }
 ],
 "metadata": {
  "kernelspec": {
   "display_name": "base",
   "language": "python",
   "name": "python3"
  },
  "language_info": {
   "codemirror_mode": {
    "name": "ipython",
    "version": 3
   },
   "file_extension": ".py",
   "mimetype": "text/x-python",
   "name": "python",
   "nbconvert_exporter": "python",
   "pygments_lexer": "ipython3",
   "version": "3.11.6"
  }
 },
 "nbformat": 4,
 "nbformat_minor": 2
}
