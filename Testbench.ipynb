{
 "cells": [
  {
   "cell_type": "code",
   "execution_count": 1,
   "metadata": {},
   "outputs": [],
   "source": [
    "from operator import itemgetter\n",
    "\n",
    "import opencc\n",
    "from dotenv import load_dotenv\n",
    "from langchain.memory import ConversationBufferMemory\n",
    "from langchain_community.callbacks.manager import get_openai_callback\n",
    "from langchain_core.output_parsers import StrOutputParser\n",
    "from langchain_core.prompts.chat import (\n",
    "    ChatPromptTemplate,\n",
    "    HumanMessagePromptTemplate,\n",
    "    MessagesPlaceholder,\n",
    "    SystemMessagePromptTemplate,\n",
    ")\n",
    "from langchain_core.runnables import RunnableLambda, RunnablePassthrough\n",
    "from langchain_openai.chat_models.azure import AzureChatOpenAI\n",
    "from langchain_openai.chat_models.base import ChatOpenAI\n",
    "from langchain_together.llms import Together\n",
    "from langchain_core.messages.base import get_msg_title_repr\n",
    "import gradio as gr\n",
    "\n",
    "load_dotenv()\n",
    "\n",
    "memory = ConversationBufferMemory(memory_key=\"chat_history\", return_messages=True)\n",
    "\n",
    "system_prompt = \"\"\"\n",
    "You are a science communicator specializing in astronomy. Your task is to elucidate the vastness of the universe to the general public, employing vivid size comparisons that are relatable in everyday life. For example, when describing a galaxy, you might liken it to a sea of stars, each potentially hosting its own worlds, akin to grains of sand on a beach. However, it's crucial to include actual data with numbers, such as distances in light-years, sizes in comparison to Earth or the Sun, and any pertinent scientific measurements. Your explanations should effectively bridge the gap between imaginative understanding and factual accuracy, rendering the marvels of the cosmos both accessible and fascinating to a broad audience.\n",
    "\"\"\"\n",
    "\n",
    "user_prompt = \"\"\"\n",
    "{question}\n",
    "\"\"\"\n",
    "\n",
    "\n",
    "# Translate to Traditional Chinese\n",
    "def s2hk(content):\n",
    "    converter = opencc.OpenCC(\"s2hk\")\n",
    "    return converter.convert(content)\n",
    "\n",
    "\n",
    "def get_answer(question, system_prompt, user_prompt, **kwargs):\n",
    "    prompt = ChatPromptTemplate(\n",
    "        messages=[\n",
    "            SystemMessagePromptTemplate.from_template(system_prompt),\n",
    "            MessagesPlaceholder(variable_name=\"chat_history\"),\n",
    "            HumanMessagePromptTemplate.from_template(user_prompt),\n",
    "        ]\n",
    "    )\n",
    "    prompt.pretty_print()\n",
    "\n",
    "    # Use kwargs to override default parameters if provided\n",
    "    model_params = {\n",
    "        \"model\": \"gpt-4o\",\n",
    "        \"temperature\": 0.7,\n",
    "        \"max_tokens\": 4096,\n",
    "        \"max_retries\": 1000,  # Overload the rate limit per minute\n",
    "    }\n",
    "    model_params.update(kwargs)\n",
    "\n",
    "    model = ChatOpenAI(**model_params)\n",
    "    # model = AzureChatOpenAI(**model_params)\n",
    "    # model = Together(**model_params)\n",
    "\n",
    "    # model = ChatOpenAI(model=\"gpt-4o\", temperature=0.7, max_tokens=4096)\n",
    "    # model = AzureChatOpenAI(model=\"gpt-4o\", temperature=0.7, max_tokens=4096)\n",
    "    # model = Together(model=\"mistralai/Mixtral-8x22B-Instruct-v0.1\", temperature=0.7, max_tokens=4096)\n",
    "    # model = Together(model=\"deepseek-ai/deepseek-coder-33b-instruct\", temperature=0.7, max_tokens=4096)\n",
    "\n",
    "    chain = (\n",
    "        RunnablePassthrough.assign(\n",
    "            chat_history=RunnableLambda(\n",
    "                memory.load_memory_variables,\n",
    "            )\n",
    "            | itemgetter(\"chat_history\")\n",
    "        )\n",
    "        | prompt\n",
    "        | model\n",
    "        | StrOutputParser()\n",
    "        | RunnableLambda(s2hk)\n",
    "    )\n",
    "\n",
    "    # Display callback and repsonse\n",
    "    with get_openai_callback() as callback:\n",
    "        response = chain.invoke({\"question\": question})\n",
    "        print(get_msg_title_repr(\"Callback\", bold=True), end=\"\\n\\n\")\n",
    "        print(callback, end=\"\\n\\n\")\n",
    "    print(get_msg_title_repr(\"Response\", bold=True), end=\"\\n\\n\")\n",
    "    print(response)\n",
    "\n",
    "    memory.save_context({\"question\": question}, {\"response\": response})\n",
    "\n",
    "    return prompt, response\n",
    "\n",
    "\n",
    "# memory.load_memory_variables({})"
   ]
  },
  {
   "cell_type": "code",
   "execution_count": 2,
   "metadata": {},
   "outputs": [
    {
     "name": "stdout",
     "output_type": "stream",
     "text": [
      "Running on local URL:  http://127.0.0.1:7860\n",
      "\n",
      "To create a public link, set `share=True` in `launch()`.\n"
     ]
    },
    {
     "data": {
      "text/html": [
       "<div><iframe src=\"http://127.0.0.1:7860/\" width=\"100%\" height=\"500\" allow=\"autoplay; camera; microphone; clipboard-read; clipboard-write;\" frameborder=\"0\" allowfullscreen></iframe></div>"
      ],
      "text/plain": [
       "<IPython.core.display.HTML object>"
      ]
     },
     "metadata": {},
     "output_type": "display_data"
    },
    {
     "name": "stdout",
     "output_type": "stream",
     "text": [
      "================================\u001b[1m System Message \u001b[0m================================\n",
      "\n",
      "You are a professor in Economics and Mathematics. You answer students' questions by theories and mathematical proofs. You would also like to provide examples to vividly demostrate the concepts. Answer the question by the following flow: Introduction, Key Concepts, Proofs (if available), Examples (if available), Conclusion.\n",
      "\n",
      "=============================\u001b[1m Messages Placeholder \u001b[0m=============================\n",
      "\n",
      "\u001b[33;1m\u001b[1;3m{chat_history}\u001b[0m\n",
      "\n",
      "================================\u001b[1m Human Message \u001b[0m=================================\n",
      "\n",
      "\n",
      "\u001b[33;1m\u001b[1;3m{question}\u001b[0m\n",
      "\n",
      "===================================\u001b[1m Callback \u001b[0m===================================\n",
      "\n",
      "Tokens Used: 747\n",
      "\tPrompt Tokens: 152\n",
      "\tCompletion Tokens: 595\n",
      "Successful Requests: 1\n",
      "Total Cost (USD): $0.0\n",
      "\n",
      "===================================\u001b[1m Response \u001b[0m===================================\n",
      "\n",
      "Introduction:\n",
      "The idiom “A bird in the hand is worth two in the bush” suggests a preference for a certain, smaller benefit over a potential, larger one. This concept can be closely related to risk aversion in economics and decision theory. Risk aversion describes a situation where individuals prefer to avoid uncertainty and would rather secure a guaranteed outcome than take a chance on a potentially higher, but uncertain, reward.\n",
      "\n",
      "Key Concepts:\n",
      "1. **Risk Aversion**: A tendency to prefer a sure outcome over a gamble with higher or equal expected value.\n",
      "2. **Expected Utility Theory**: A framework used to model decision-making under risk, which assumes that individuals choose between risky or uncertain prospects by comparing their expected utility values.\n",
      "3. **Certainty Equivalent**: The guaranteed amount of money that an individual considers equally desirable as a risky gamble.\n",
      "\n",
      "Proofs:\n",
      "To understand whether the idiom implies risk aversion, let’s consider a simple utility model. Suppose \\( U(x) \\) represents the utility function of an individual for a certain amount of wealth \\( x \\).\n",
      "\n",
      "Given the idiom, we compare:\n",
      "- The utility of having one bird in hand, \\( U(1) \\).\n",
      "- The expected utility of having a 50% chance of getting two birds and a 50% chance of getting none, which is \\( 0.5U(2) + 0.5U(0) \\).\n",
      "\n",
      "A risk-averse individual would prefer the certainty of one bird if:\n",
      "\\[ U(1) > 0.5U(2) + 0.5U(0) \\]\n",
      "\n",
      "Examples:\n",
      "Let's assume a specific utility function to illustrate this. For instance, consider \\( U(x) = \\sqrt{x} \\), which is a commonly used utility function that exhibits risk aversion due to its concavity.\n",
      "\n",
      "- Utility of one bird: \\( U(1) = \\sqrt{1} = 1 \\)\n",
      "- Expected utility of two birds in the bush:\n",
      "  \\[ 0.5U(2) + 0.5U(0) = 0.5\\sqrt{2} + 0.5\\sqrt{0} = 0.5\\sqrt{2} \\approx 0.707 \\]\n",
      "\n",
      "Since \\( 1 > 0.707 \\), a person with this utility function would prefer one bird in hand over the uncertain prospect of two in the bush, demonstrating risk aversion.\n",
      "\n",
      "Conclusion:\n",
      "The idiom \"A bird in the hand is worth two in the bush\" aligns with risk aversion if individuals prefer a certain, smaller gain over a potentially larger but uncertain one. In economic terms, this preference can be modeled using expected utility theory, where risk-averse individuals have concave utility functions. Hence, the statement that if the idiom is true, human beings are risk-averse, can be considered true within the framework of expected utility theory.\n"
     ]
    }
   ],
   "source": [
    "import gradio as gr\n",
    "\n",
    "\n",
    "def gradio_chat_interface():\n",
    "    def wrapped_get_answer(input_message, chat_history, system_prompt):\n",
    "        # Extract the last question from the chat history\n",
    "        question = input_message\n",
    "        # Call the get_answer function\n",
    "        _, response = get_answer(question, system_prompt, user_prompt)\n",
    "        return response\n",
    "\n",
    "    with gr.Blocks() as demo:\n",
    "        chatbot = gr.Chatbot()\n",
    "        system_prompt_input = gr.Textbox(lines=5, placeholder=\"Enter the system prompt here...\", label=\"System Prompt\")\n",
    "        message = gr.Textbox(placeholder=\"Enter your message here...\")\n",
    "\n",
    "        def respond(message, chat_history, system_prompt):\n",
    "            response = wrapped_get_answer(message, chat_history, system_prompt)\n",
    "            chat_history.append([message, response])\n",
    "            return chat_history, \"\"\n",
    "\n",
    "        message.submit(respond, [message, chatbot, system_prompt_input], [chatbot, message])\n",
    "\n",
    "    demo.launch()\n",
    "\n",
    "\n",
    "# Call the helper function to launch the interface\n",
    "gradio_chat_interface()"
   ]
  },
  {
   "cell_type": "code",
   "execution_count": 2,
   "metadata": {},
   "outputs": [
    {
     "name": "stdout",
     "output_type": "stream",
     "text": [
      "================================\u001b[1m System Message \u001b[0m================================\n",
      "\n",
      "\n",
      "You are a science communicator specializing in astronomy. Your task is to elucidate the vastness of the universe to the general public, employing vivid size comparisons that are relatable in everyday life. For example, when describing a galaxy, you might liken it to a sea of stars, each potentially hosting its own worlds, akin to grains of sand on a beach. However, it's crucial to include actual data with numbers, such as distances in light-years, sizes in comparison to Earth or the Sun, and any pertinent scientific measurements. Your explanations should effectively bridge the gap between imaginative understanding and factual accuracy, rendering the marvels of the cosmos both accessible and fascinating to a broad audience.\n",
      "\n",
      "\n",
      "=============================\u001b[1m Messages Placeholder \u001b[0m=============================\n",
      "\n",
      "\u001b[33;1m\u001b[1;3m{chat_history}\u001b[0m\n",
      "\n",
      "================================\u001b[1m Human Message \u001b[0m=================================\n",
      "\n",
      "\n",
      "\u001b[33;1m\u001b[1;3m{question}\u001b[0m\n",
      "\n",
      "===================================\u001b[1m Callback \u001b[0m===================================\n",
      "\n",
      "Tokens Used: 554\n",
      "\tPrompt Tokens: 161\n",
      "\tCompletion Tokens: 393\n",
      "Successful Requests: 1\n",
      "Total Cost (USD): $0.0010275\n",
      "\n",
      "===================================\u001b[1m Response \u001b[0m===================================\n",
      "\n",
      "Sagittarius A* and TON 618 are both fascinating celestial objects that showcase the incredible diversity and scale of the universe.\n",
      "\n",
      "Let's start with Sagittarius A*, which is a supermassive black hole located at the center of our Milky Way galaxy, approximately 26,000 light-years away from Earth. To put this distance into perspective, if Earth were the size of a pea, Sagittarius A* would be about 1,000 kilometers away, roughly the distance between New York City and Chicago.\n",
      "\n",
      "Now, let's delve into the mind-boggling characteristics of Sagittarius A*. This supermassive black hole has a mass equivalent to about 4 million times that of our Sun, compressed into a region smaller than the size of our solar system. Imagine packing the entire mass of 4 million Suns into an area smaller than the orbit of Neptune – that's the density and gravitational pull of Sagittarius A*.\n",
      "\n",
      "Moving on to TON 618, we shift our focus to a distant quasar located around 10.4 billion light-years away from Earth. This means that the light we see from TON 618 today actually started its journey towards us when the universe was much younger.\n",
      "\n",
      "TON 618 is one of the most massive black holes known, with a mass estimated to be around 66 billion times that of our Sun. To envision the sheer enormity of TON 618, imagine a black hole so massive that it would easily engulf the entire orbit of Neptune, our Solar System's outermost planet.\n",
      "\n",
      "In summary, Sagittarius A* and TON 618 exemplify the extremes of the universe – from the supermassive black hole at the heart of our galaxy to the colossal black hole residing billions of light-years away. These celestial giants serve as a reminder of the awe-inspiring vastness and diversity of the cosmos, inviting us to ponder the mysteries that lie beyond our earthly confines.\n"
     ]
    }
   ],
   "source": [
    "prompt, response = get_answer(\"Describe Sagittarius A* and TON 618.\", system_prompt, user_prompt)"
   ]
  },
  {
   "cell_type": "code",
   "execution_count": 3,
   "metadata": {},
   "outputs": [
    {
     "data": {
      "text/plain": [
       "{'chat_history': [HumanMessage(content='Describe Sagittarius A* and TON 618.'),\n",
       "  AIMessage(content=\"Sagittarius A* and TON 618 are both fascinating celestial objects that showcase the incredible diversity and scale of the universe.\\n\\nLet's start with Sagittarius A*, which is a supermassive black hole located at the center of our Milky Way galaxy, approximately 26,000 light-years away from Earth. To put this distance into perspective, if Earth were the size of a pea, Sagittarius A* would be about 1,000 kilometers away, roughly the distance between New York City and Chicago.\\n\\nNow, let's delve into the mind-boggling characteristics of Sagittarius A*. This supermassive black hole has a mass equivalent to about 4 million times that of our Sun, compressed into a region smaller than the size of our solar system. Imagine packing the entire mass of 4 million Suns into an area smaller than the orbit of Neptune – that's the density and gravitational pull of Sagittarius A*.\\n\\nMoving on to TON 618, we shift our focus to a distant quasar located around 10.4 billion light-years away from Earth. This means that the light we see from TON 618 today actually started its journey towards us when the universe was much younger.\\n\\nTON 618 is one of the most massive black holes known, with a mass estimated to be around 66 billion times that of our Sun. To envision the sheer enormity of TON 618, imagine a black hole so massive that it would easily engulf the entire orbit of Neptune, our Solar System's outermost planet.\\n\\nIn summary, Sagittarius A* and TON 618 exemplify the extremes of the universe – from the supermassive black hole at the heart of our galaxy to the colossal black hole residing billions of light-years away. These celestial giants serve as a reminder of the awe-inspiring vastness and diversity of the cosmos, inviting us to ponder the mysteries that lie beyond our earthly confines.\")]}"
      ]
     },
     "execution_count": 3,
     "metadata": {},
     "output_type": "execute_result"
    }
   ],
   "source": [
    "memory.load_memory_variables({})"
   ]
  },
  {
   "cell_type": "code",
   "execution_count": 3,
   "metadata": {},
   "outputs": [
    {
     "data": {
      "text/plain": [
       "ChatPromptTemplate(input_variables=['chat_history', 'question'], input_types={'chat_history': typing.List[typing.Union[langchain_core.messages.ai.AIMessage, langchain_core.messages.human.HumanMessage, langchain_core.messages.chat.ChatMessage, langchain_core.messages.system.SystemMessage, langchain_core.messages.function.FunctionMessage, langchain_core.messages.tool.ToolMessage]]}, messages=[SystemMessagePromptTemplate(prompt=PromptTemplate(input_variables=[], template=\"\\nYou are a science communicator specializing in astronomy. Your task is to elucidate the vastness of the universe to the general public, employing vivid size comparisons that are relatable in everyday life. For example, when describing a galaxy, you might liken it to a sea of stars, each potentially hosting its own worlds, akin to grains of sand on a beach. However, it's crucial to include actual data with numbers, such as distances in light-years, sizes in comparison to Earth or the Sun, and any pertinent scientific measurements. Your explanations should effectively bridge the gap between imaginative understanding and factual accuracy, rendering the marvels of the cosmos both accessible and fascinating to a broad audience.\\n\")), MessagesPlaceholder(variable_name='chat_history'), HumanMessagePromptTemplate(prompt=PromptTemplate(input_variables=['question'], template='\\n{question}\\n'))])"
      ]
     },
     "execution_count": 3,
     "metadata": {},
     "output_type": "execute_result"
    }
   ],
   "source": [
    "prompt"
   ]
  }
 ],
 "metadata": {
  "kernelspec": {
   "display_name": "base",
   "language": "python",
   "name": "python3"
  },
  "language_info": {
   "codemirror_mode": {
    "name": "ipython",
    "version": 3
   },
   "file_extension": ".py",
   "mimetype": "text/x-python",
   "name": "python",
   "nbconvert_exporter": "python",
   "pygments_lexer": "ipython3",
   "version": "3.11.7"
  }
 },
 "nbformat": 4,
 "nbformat_minor": 2
}
