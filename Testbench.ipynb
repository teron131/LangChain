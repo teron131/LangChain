{
 "cells": [
  {
   "cell_type": "code",
   "execution_count": 4,
   "metadata": {},
   "outputs": [
    {
     "name": "stdout",
     "output_type": "stream",
     "text": [
      "Question 1:\n",
      "https://lilianweng.github.io/posts/2023-06-23-agent/ Can you read the content?\n",
      "\n",
      "Response 1:\n",
      "I'm unable to access external websites directly, including the one you provided. However, if you can share specific content or information from that page, I would be happy to help you with it!\n"
     ]
    }
   ],
   "source": [
    "from chain import UniversalChain\n",
    "\n",
    "chain = UniversalChain(\"gpt-4o-mini\", use_history=True)\n",
    "questions = [\n",
    "    \"https://lilianweng.github.io/posts/2023-06-23-agent/ Can you read the content?\",\n",
    "]\n",
    "for i, question in enumerate(questions, 1):\n",
    "    print(f\"Question {i}:\\n{question}\")\n",
    "    response = chain.generate_response(question)\n",
    "    print()\n",
    "    print(f\"Response {i}:\\n{response}\")\n",
    "    # chain.display_response(response)\n",
    "    if i < len(questions):\n",
    "        print(\"---\")"
   ]
  }
 ],
 "metadata": {
  "kernelspec": {
   "display_name": "base",
   "language": "python",
   "name": "python3"
  },
  "language_info": {
   "codemirror_mode": {
    "name": "ipython",
    "version": 3
   },
   "file_extension": ".py",
   "mimetype": "text/x-python",
   "name": "python",
   "nbconvert_exporter": "python",
   "pygments_lexer": "ipython3",
   "version": "3.12.2"
  }
 },
 "nbformat": 4,
 "nbformat_minor": 2
}
