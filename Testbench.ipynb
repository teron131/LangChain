{
 "cells": [
  {
   "cell_type": "code",
   "execution_count": null,
   "metadata": {},
   "outputs": [],
   "source": [
    "from operator import itemgetter\n",
    "from dotenv import load_dotenv\n",
    "\n",
    "from langchain.memory import ConversationBufferMemory\n",
    "from langchain.prompts import (\n",
    "    ChatPromptTemplate,\n",
    "    HumanMessagePromptTemplate,\n",
    "    MessagesPlaceholder,\n",
    "    SystemMessagePromptTemplate,\n",
    ")\n",
    "from langchain_community.callbacks.manager import get_openai_callback\n",
    "from langchain_core.output_parsers import StrOutputParser\n",
    "from langchain_core.runnables import RunnableLambda, RunnablePassthrough\n",
    "from langchain_openai.chat_models import ChatOpenAI\n",
    "from langchain_openai.chat_models.azure import AzureChatOpenAI\n",
    "from langchain_together.llms import Together\n",
    "\n",
    "load_dotenv()\n",
    "\n",
    "memory = ConversationBufferMemory(memory_key=\"chat_history\", return_messages=True)\n",
    "model = ChatOpenAI(model=\"gpt-4-turbo-preview\", temperature=0.7, max_tokens=4096)\n",
    "# model = AzureChatOpenAI(model=\"gpt-4-turbo-preview\", temperature=0.7, max_tokens=4096)\n",
    "# model = Together(model=\"mistralai/Mixtral-8x7B-Instruct-v0.1\", temperature=0.7, max_tokens=4096)\n",
    "# model = Together(model=\"deepseek-ai/deepseek-coder-33b-instruct\", temperature=0.7, max_tokens=4096)\n",
    "\n",
    "system_prompt = \"\"\"\n",
    "\"\"\"\n",
    "\n",
    "prompt = ChatPromptTemplate(\n",
    "    messages=[\n",
    "        SystemMessagePromptTemplate.from_template(system_prompt),\n",
    "        MessagesPlaceholder(variable_name=\"chat_history\"),\n",
    "        HumanMessagePromptTemplate.from_template(\"{question}\"),\n",
    "    ]\n",
    ")\n",
    "\n",
    "chain = (\n",
    "    RunnablePassthrough.assign(chat_history=RunnableLambda(memory.load_memory_variables) | itemgetter(\"chat_history\"))\n",
    "    | prompt\n",
    "    | model\n",
    "    | StrOutputParser()\n",
    ")\n",
    "\n",
    "\n",
    "def get_answer(question):\n",
    "    with get_openai_callback() as callback:\n",
    "        response = chain.invoke({\"question\": question})\n",
    "        print(callback, end=\"\\n\\n\")\n",
    "    print(response)\n",
    "    memory.save_context({\"input\": question}, {\"output\": response})"
   ]
  },
  {
   "cell_type": "code",
   "execution_count": null,
   "metadata": {},
   "outputs": [],
   "source": [
    "get_answer(\"\")"
   ]
  }
 ],
 "metadata": {
  "kernelspec": {
   "display_name": "base",
   "language": "python",
   "name": "python3"
  },
  "language_info": {
   "codemirror_mode": {
    "name": "ipython",
    "version": 3
   },
   "file_extension": ".py",
   "mimetype": "text/x-python",
   "name": "python",
   "nbconvert_exporter": "python",
   "pygments_lexer": "ipython3",
   "version": "3.11.7"
  }
 },
 "nbformat": 4,
 "nbformat_minor": 2
}
